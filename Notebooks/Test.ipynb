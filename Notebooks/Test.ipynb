{
 "cells": [
  {
   "cell_type": "code",
   "execution_count": 1,
   "metadata": {
    "ExecuteTime": {
     "end_time": "2017-06-26T18:42:34.976592Z",
     "start_time": "2017-06-26T18:42:34.967455Z"
    },
    "collapsed": true,
    "init_cell": true
   },
   "outputs": [],
   "source": [
    "%%capture\n",
    "%pushd ../\n",
    "from IPython.display import display\n",
    "import brat_widget.widget as brat\n",
    "%popd"
   ]
  },
  {
   "cell_type": "code",
   "execution_count": 3,
   "metadata": {
    "ExecuteTime": {
     "end_time": "2017-06-26T18:43:52.816592Z",
     "start_time": "2017-06-26T18:43:52.798611Z"
    }
   },
   "outputs": [
    {
     "data": {
      "application/vnd.jupyter.widget-view+json": {
       "model_id": "d0259f7b9afa45e6b554ae18c13511e0"
      }
     },
     "metadata": {},
     "output_type": "display_data"
    }
   ],
   "source": [
    "w = brat.Visualizer()\n",
    "w.collection = {\n",
    "            'entity_types': [{\n",
    "                'type': 'Person',\n",
    "                # The labels are used when displaying the annotion, in this case\n",
    "                # we also provide a short-hand \"Per\" for cases where\n",
    "                # abbreviations are preferable \n",
    "                'labels': ['Person', 'Per'],\n",
    "                # Blue is a nice colour for a person?\n",
    "                'bgColor': '#7fa2ff',\n",
    "                # Use a slightly darker version of the bgColor for the border\n",
    "                'borderColor': 'darken'\n",
    "            }]\n",
    "}\n",
    "w.value = {\n",
    "            # Our text of choice\n",
    "            'text': \"Ed O'Kelley was the man who shot the man who shot Jesse James.\",\n",
    "            # The entities entry holds all entity annotations\n",
    "            'entities': [\n",
    "                # Format: [${ID}, ${TYPE}, [[${START}, ${END}]]]\n",
    "                # note that range of the offsets are [${START},${END}) \n",
    "                ['T1', 'Person', [[0, 11]]],\n",
    "                ['T2', 'Person', [[20, 23]]],\n",
    "                ['T3', 'Person', [[37, 40]]],\n",
    "                ['T4', 'Person', [[50, 61]]]\n",
    "            ]\n",
    "}\n",
    "display(w)"
   ]
  },
  {
   "cell_type": "code",
   "execution_count": null,
   "metadata": {
    "collapsed": true
   },
   "outputs": [],
   "source": []
  }
 ],
 "metadata": {
  "celltoolbar": "Initialization Cell",
  "hide_input": false,
  "kernelspec": {
   "display_name": "Python [conda env:brat-27]",
   "language": "python",
   "name": "conda-env-brat-27-py"
  },
  "language_info": {
   "codemirror_mode": {
    "name": "ipython",
    "version": 2
   },
   "file_extension": ".py",
   "mimetype": "text/x-python",
   "name": "python",
   "nbconvert_exporter": "python",
   "pygments_lexer": "ipython2",
   "version": "2.7.13"
  },
  "latex_envs": {
   "LaTeX_envs_menu_present": true,
   "autocomplete": true,
   "bibliofile": "biblio.bib",
   "cite_by": "apalike",
   "current_citInitial": 1,
   "eqLabelWithNumbers": true,
   "eqNumInitial": 1,
   "hotkeys": {
    "equation": "Ctrl-E",
    "itemize": "Ctrl-I"
   },
   "labels_anchors": false,
   "latex_user_defs": false,
   "report_style_numbering": false,
   "user_envs_cfg": false
  },
  "toc": {
   "colors": {
    "hover_highlight": "#DAA520",
    "navigate_num": "#000000",
    "navigate_text": "#333333",
    "running_highlight": "#FF0000",
    "selected_highlight": "#FFD700",
    "sidebar_border": "#EEEEEE",
    "wrapper_background": "#FFFFFF"
   },
   "moveMenuLeft": true,
   "nav_menu": {
    "height": "12px",
    "width": "252px"
   },
   "navigate_menu": true,
   "number_sections": true,
   "sideBar": true,
   "threshold": 4,
   "toc_cell": false,
   "toc_section_display": "block",
   "toc_window_display": false,
   "widenNotebook": false
  }
 },
 "nbformat": 4,
 "nbformat_minor": 1
}
