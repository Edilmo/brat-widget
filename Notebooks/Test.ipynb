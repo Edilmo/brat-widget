{
 "cells": [
  {
   "cell_type": "code",
   "execution_count": 2,
   "metadata": {
    "ExecuteTime": {
     "end_time": "2017-06-27T18:57:33.575081Z",
     "start_time": "2017-06-27T18:57:33.568329Z"
    },
    "collapsed": true,
    "hide_input": true,
    "init_cell": true
   },
   "outputs": [],
   "source": [
    "%%capture\n",
    "%pushd ../\n",
    "from IPython.display import display, Javascript\n",
    "import brat_widget.widget as brat\n",
    "%popd"
   ]
  },
  {
   "cell_type": "code",
   "execution_count": 4,
   "metadata": {
    "ExecuteTime": {
     "end_time": "2017-06-27T18:57:46.354520Z",
     "start_time": "2017-06-27T18:57:46.336941Z"
    },
    "hide_input": true
   },
   "outputs": [
    {
     "data": {
      "application/vnd.jupyter.widget-view+json": {
       "model_id": "d2a1e49c667246e8be8d4e3047dde778"
      }
     },
     "metadata": {},
     "output_type": "display_data"
    }
   ],
   "source": [
    "w = brat.Visualizer()\n",
    "w.collection = {\n",
    "            'entity_types': [{\n",
    "                'type': 'Person',\n",
    "                # The labels are used when displaying the annotion, in this case\n",
    "                # we also provide a short-hand \"Per\" for cases where\n",
    "                # abbreviations are preferable \n",
    "                'labels': ['Person', 'Per'],\n",
    "                # Blue is a nice colour for a person?\n",
    "                'bgColor': '#7fa2ff',\n",
    "                # Use a slightly darker version of the bgColor for the border\n",
    "                'borderColor': 'darken'\n",
    "            }]\n",
    "}\n",
    "w.value = {\n",
    "            # Our text of choice\n",
    "            'text': \"Ed O'Kelley was the man who shot the man who shot Jesse James.\",\n",
    "            # The entities entry holds all entity annotations\n",
    "            'entities': [\n",
    "                # Format: [${ID}, ${TYPE}, [[${START}, ${END}]]]\n",
    "                # note that range of the offsets are [${START},${END}) \n",
    "                ['T1', 'Person', [[0, 11]]],\n",
    "                ['T2', 'Person', [[20, 23]]],\n",
    "                ['T3', 'Person', [[37, 40]]],\n",
    "                ['T4', 'Person', [[50, 61]]]\n",
    "            ]\n",
    "}\n",
    "display(w)"
   ]
  },
  {
   "cell_type": "code",
   "execution_count": 5,
   "metadata": {
    "ExecuteTime": {
     "end_time": "2017-06-27T18:57:54.593716Z",
     "start_time": "2017-06-27T18:57:54.534021Z"
    },
    "hide_input": true
   },
   "outputs": [
    {
     "data": {
      "application/vnd.jupyter.widget-view+json": {
       "model_id": "7ccd57f3432c4b5e9974ca80f136b81e"
      }
     },
     "metadata": {},
     "output_type": "display_data"
    }
   ],
   "source": [
    "w = brat.Visualizer()\n",
    "w.collection = {\n",
    "    \"entity_types\": [\n",
    "        {\n",
    "            \"type\": \"Person\",\n",
    "            \"labels\": [ \"Person\", \"Per\" ],\n",
    "            \"bgColor\": \"#7fa2ff\",\n",
    "            \"borderColor\": \"darken\"\n",
    "        }\n",
    "    ],\n",
    "    \"entity_attribute_types\": [\n",
    "        {\n",
    "            \"type\": \"Notorious\",\n",
    "            \"values\": {\n",
    "                \"Notorious\": { \"glyph\": \"★\" }\n",
    "            },\n",
    "            \"bool\": \"Notorious\"\n",
    "        }\n",
    "    ],\n",
    "    \"relation_types\": [\n",
    "        {\n",
    "            \"type\": \"Anaphora\",\n",
    "            \"labels\": [ \"Anaphora\", \"Ana\" ],\n",
    "            \"dashArray\": \"3,3\",\n",
    "            \"color\": \"purple\",\n",
    "            \"args\": [\n",
    "                {\n",
    "                    \"role\": \"Anaphor\",\n",
    "                    \"targets\": [ \"Person\" ]\n",
    "                },\n",
    "                {\n",
    "                    \"role\": \"Entity\",\n",
    "                    \"targets\": [ \"Person\" ]\n",
    "                }\n",
    "            ]\n",
    "        }\n",
    "    ],\n",
    "    \"event_types\": [\n",
    "        {\n",
    "            \"type\": \"Assassination\",\n",
    "            \"labels\": [ \"Assassination\", \"Assas\" ],\n",
    "            \"bgColor\": \"lightgreen\",\n",
    "            \"borderColor\": \"darken\",\n",
    "            \"arcs\": [\n",
    "                {\n",
    "                    \"type\": \"Victim\",\n",
    "                    \"labels\": [ \"Victim\", \"Vict\" ]\n",
    "                },\n",
    "                {\n",
    "                    \"type\": \"Perpetrator\",\n",
    "                    \"labels\": [ \"Perpetrator\", \"Perp\" ],\n",
    "                    \"color\": \"green\"\n",
    "                }\n",
    "            ]\n",
    "        }\n",
    "    ]\n",
    "}\n",
    "w.value = {\n",
    "    \"text\": \"Ed O'Kelley was the man who shot the man who shot Jesse James.\",\n",
    "    \"entities\": [\n",
    "        [\n",
    "            \"T1\",\n",
    "            \"Person\",\n",
    "            [ [ 0, 11 ] ]\n",
    "        ],\n",
    "        [\n",
    "            \"T2\",\n",
    "            \"Person\",\n",
    "            [ [ 20, 23 ] ]\n",
    "        ],\n",
    "        [\n",
    "            \"T3\",\n",
    "            \"Person\",\n",
    "            [ [ 37, 40 ] ]\n",
    "        ],\n",
    "        [\n",
    "            \"T4\",\n",
    "            \"Person\",\n",
    "            [ [ 50, 61 ] ]\n",
    "        ]\n",
    "    ],\n",
    "    \"attributes\": [ [ \"A1\", \"Notorious\", \"T4\" ] ],\n",
    "    \"relations\": [\n",
    "        [\n",
    "            \"R1\",\n",
    "            \"Anaphora\",\n",
    "            [ [ \"Anaphor\", \"T2\" ], [ \"Entity\", \"T1\" ] ]\n",
    "        ]\n",
    "    ],\n",
    "    \"triggers\": [\n",
    "        [\n",
    "            \"T5\",\n",
    "            \"Assassination\",\n",
    "            [ [ 45, 49 ] ]\n",
    "        ],\n",
    "        [\n",
    "            \"T6\",\n",
    "            \"Assassination\",\n",
    "            [ [ 28, 32 ] ]\n",
    "        ]\n",
    "    ],\n",
    "    \"events\": [\n",
    "        [\n",
    "            \"E1\",\n",
    "            \"T5\",\n",
    "            [ [ \"Perpetrator\", \"T3\" ], [ \"Victim\", \"T4\" ] ]\n",
    "        ],\n",
    "        [\n",
    "            \"E2\",\n",
    "            \"T6\",\n",
    "            [ [ \"Perpetrator\", \"T2\" ], [ \"Victim\", \"T3\" ] ]\n",
    "        ]\n",
    "    ]\n",
    "}\n",
    "display(w)"
   ]
  },
  {
   "cell_type": "code",
   "execution_count": 6,
   "metadata": {
    "ExecuteTime": {
     "end_time": "2017-06-27T18:57:55.706669Z",
     "start_time": "2017-06-27T18:57:55.649309Z"
    },
    "hide_input": true
   },
   "outputs": [
    {
     "data": {
      "application/vnd.jupyter.widget-view+json": {
       "model_id": "d0d4446881674eba92aabaefa750ed34"
      }
     },
     "metadata": {},
     "output_type": "display_data"
    }
   ],
   "source": [
    "a = brat.Annotator()\n",
    "a.collection = {\n",
    "    \"entity_types\": [\n",
    "        {\n",
    "            \"type\": \"Person\",\n",
    "            \"labels\": [ \"Person\", \"Per\" ],\n",
    "            \"bgColor\": \"#7fa2ff\",\n",
    "            \"borderColor\": \"darken\"\n",
    "        }\n",
    "    ],\n",
    "    \"entity_attribute_types\": [\n",
    "        {\n",
    "            \"type\": \"Notorious\",\n",
    "            \"values\": {\n",
    "                \"Notorious\": { \"glyph\": \"★\" }\n",
    "            },\n",
    "            \"bool\": \"Notorious\"\n",
    "        }\n",
    "    ],\n",
    "    \"relation_types\": [\n",
    "        {\n",
    "            \"type\": \"Anaphora\",\n",
    "            \"labels\": [ \"Anaphora\", \"Ana\" ],\n",
    "            \"dashArray\": \"3,3\",\n",
    "            \"color\": \"purple\",\n",
    "            \"args\": [\n",
    "                {\n",
    "                    \"role\": \"Anaphor\",\n",
    "                    \"targets\": [ \"Person\" ]\n",
    "                },\n",
    "                {\n",
    "                    \"role\": \"Entity\",\n",
    "                    \"targets\": [ \"Person\" ]\n",
    "                }\n",
    "            ]\n",
    "        }\n",
    "    ],\n",
    "    \"event_types\": [\n",
    "        {\n",
    "            \"type\": \"Assassination\",\n",
    "            \"labels\": [ \"Assassination\", \"Assas\" ],\n",
    "            \"bgColor\": \"lightgreen\",\n",
    "            \"borderColor\": \"darken\",\n",
    "            \"arcs\": [\n",
    "                {\n",
    "                    \"type\": \"Victim\",\n",
    "                    \"labels\": [ \"Victim\", \"Vict\" ]\n",
    "                },\n",
    "                {\n",
    "                    \"type\": \"Perpetrator\",\n",
    "                    \"labels\": [ \"Perpetrator\", \"Perp\" ],\n",
    "                    \"color\": \"green\"\n",
    "                }\n",
    "            ]\n",
    "        }\n",
    "    ]\n",
    "}\n",
    "a.value = {\n",
    "    \"text\": \"Ed O'Kelley was the man who shot the man who shot Jesse James.\",\n",
    "    \"entities\": [\n",
    "        [\n",
    "            \"T1\",\n",
    "            \"Person\",\n",
    "            [ [ 0, 11 ] ]\n",
    "        ],\n",
    "        [\n",
    "            \"T2\",\n",
    "            \"Person\",\n",
    "            [ [ 20, 23 ] ]\n",
    "        ],\n",
    "        [\n",
    "            \"T3\",\n",
    "            \"Person\",\n",
    "            [ [ 37, 40 ] ]\n",
    "        ],\n",
    "        [\n",
    "            \"T4\",\n",
    "            \"Person\",\n",
    "            [ [ 50, 61 ] ]\n",
    "        ]\n",
    "    ],\n",
    "    \"attributes\": [ [ \"A1\", \"Notorious\", \"T4\" ] ],\n",
    "    \"relations\": [\n",
    "        [\n",
    "            \"R1\",\n",
    "            \"Anaphora\",\n",
    "            [ [ \"Anaphor\", \"T2\" ], [ \"Entity\", \"T1\" ] ]\n",
    "        ]\n",
    "    ],\n",
    "    \"triggers\": [\n",
    "        [\n",
    "            \"T5\",\n",
    "            \"Assassination\",\n",
    "            [ [ 45, 49 ] ]\n",
    "        ],\n",
    "        [\n",
    "            \"T6\",\n",
    "            \"Assassination\",\n",
    "            [ [ 28, 32 ] ]\n",
    "        ]\n",
    "    ],\n",
    "    \"events\": [\n",
    "        [\n",
    "            \"E1\",\n",
    "            \"T5\",\n",
    "            [ [ \"Perpetrator\", \"T3\" ], [ \"Victim\", \"T4\" ] ]\n",
    "        ],\n",
    "        [\n",
    "            \"E2\",\n",
    "            \"T6\",\n",
    "            [ [ \"Perpetrator\", \"T2\" ], [ \"Victim\", \"T3\" ] ]\n",
    "        ]\n",
    "    ]\n",
    "}\n",
    "display(a)"
   ]
  },
  {
   "cell_type": "markdown",
   "metadata": {
    "ExecuteTime": {
     "end_time": "2017-06-27T06:24:54.829960Z",
     "start_time": "2017-06-27T06:24:54.818466Z"
    }
   },
   "source": [
    "display(Javascript(\"\"\"\n",
    "require(\n",
    "    [\"base/js/dialog\"], \n",
    "    function(dialog) {\n",
    "        dialog.modal({\n",
    "            title: 'Hello world',\n",
    "            body: $(\"<div>First name:<br><input type=\"text\" name=\"firstname\"><br>Last name:<br><input type=\"text\" name=\"lastname\"></div>\"),\n",
    "            buttons: {\n",
    "                'kthxbye': {}\n",
    "            }\n",
    "        });\n",
    "    }\n",
    ");\n",
    "\"\"\"))"
   ]
  },
  {
   "cell_type": "code",
   "execution_count": null,
   "metadata": {
    "collapsed": true
   },
   "outputs": [],
   "source": []
  }
 ],
 "metadata": {
  "celltoolbar": "Initialization Cell",
  "hide_input": false,
  "kernelspec": {
   "display_name": "Python [conda env:brat-27]",
   "language": "python",
   "name": "conda-env-brat-27-py"
  },
  "language_info": {
   "codemirror_mode": {
    "name": "ipython",
    "version": 2
   },
   "file_extension": ".py",
   "mimetype": "text/x-python",
   "name": "python",
   "nbconvert_exporter": "python",
   "pygments_lexer": "ipython2",
   "version": "2.7.13"
  },
  "latex_envs": {
   "LaTeX_envs_menu_present": true,
   "autocomplete": true,
   "bibliofile": "biblio.bib",
   "cite_by": "apalike",
   "current_citInitial": 1,
   "eqLabelWithNumbers": true,
   "eqNumInitial": 1,
   "hotkeys": {
    "equation": "Ctrl-E",
    "itemize": "Ctrl-I"
   },
   "labels_anchors": false,
   "latex_user_defs": false,
   "report_style_numbering": false,
   "user_envs_cfg": false
  },
  "toc": {
   "colors": {
    "hover_highlight": "#DAA520",
    "navigate_num": "#000000",
    "navigate_text": "#333333",
    "running_highlight": "#FF0000",
    "selected_highlight": "#FFD700",
    "sidebar_border": "#EEEEEE",
    "wrapper_background": "#FFFFFF"
   },
   "moveMenuLeft": true,
   "nav_menu": {
    "height": "12px",
    "width": "252px"
   },
   "navigate_menu": true,
   "number_sections": true,
   "sideBar": true,
   "threshold": 4,
   "toc_cell": false,
   "toc_section_display": "block",
   "toc_window_display": false,
   "widenNotebook": false
  }
 },
 "nbformat": 4,
 "nbformat_minor": 1
}
