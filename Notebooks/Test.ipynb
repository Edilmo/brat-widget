{
 "cells": [
  {
   "cell_type": "code",
   "execution_count": 1,
   "metadata": {
    "ExecuteTime": {
     "end_time": "2017-07-02T03:18:04.202544Z",
     "start_time": "2017-07-02T03:18:04.191885Z"
    },
    "collapsed": true,
    "hide_input": true,
    "init_cell": true
   },
   "outputs": [],
   "source": [
    "%%capture\n",
    "%pushd ../\n",
    "from IPython.display import display, Javascript\n",
    "import brat_widget.widget as brat\n",
    "%popd"
   ]
  },
  {
   "cell_type": "code",
   "execution_count": 2,
   "metadata": {
    "ExecuteTime": {
     "end_time": "2017-07-02T03:18:04.229404Z",
     "start_time": "2017-07-02T03:18:04.205073Z"
    },
    "hide_input": true,
    "init_cell": true
   },
   "outputs": [
    {
     "name": "stderr",
     "output_type": "stream",
     "text": [
      "Widget Javascript not detected.  It may not be installed or enabled properly.\n"
     ]
    },
    {
     "data": {
      "application/vnd.jupyter.widget-view+json": {
       "model_id": "7265f95e2256408eaa6c6a944d53357c"
      }
     },
     "metadata": {},
     "output_type": "display_data"
    }
   ],
   "source": [
    "w = brat.Visualizer()\n",
    "w.collection = {\n",
    "            'entity_types': [{\n",
    "                'type': 'Person',\n",
    "                # The labels are used when displaying the annotion, in this case\n",
    "                # we also provide a short-hand \"Per\" for cases where\n",
    "                # abbreviations are preferable \n",
    "                'labels': ['Person', 'Per'],\n",
    "                # Blue is a nice colour for a person?\n",
    "                'bgColor': '#7fa2ff',\n",
    "                # Use a slightly darker version of the bgColor for the border\n",
    "                'borderColor': 'darken'\n",
    "            }]\n",
    "}\n",
    "w.value = {\n",
    "            # Our text of choice\n",
    "            'text': \"Ed O'Kelley was the man who shot the man who shot Jesse James.\",\n",
    "            # The entities entry holds all entity annotations\n",
    "            'entities': [\n",
    "                # Format: [${ID}, ${TYPE}, [[${START}, ${END}]]]\n",
    "                # note that range of the offsets are [${START},${END}) \n",
    "                ['T1', 'Person', [[0, 11]]],\n",
    "                ['T2', 'Person', [[20, 23]]],\n",
    "                ['T3', 'Person', [[37, 40]]],\n",
    "                ['T4', 'Person', [[50, 61]]]\n",
    "            ]\n",
    "}\n",
    "display(w)"
   ]
  },
  {
   "cell_type": "code",
   "execution_count": 3,
   "metadata": {
    "ExecuteTime": {
     "end_time": "2017-07-02T03:18:04.278945Z",
     "start_time": "2017-07-02T03:18:04.231276Z"
    },
    "collapsed": true,
    "hide_input": true,
    "init_cell": true
   },
   "outputs": [],
   "source": [
    "def get_complex_collection(): \n",
    "    return {\n",
    "        \"entity_types\": [\n",
    "            {\n",
    "                \"type\": \"Person\",\n",
    "                \"labels\": [ \"Person\", \"Per\" ],\n",
    "                \"bgColor\": \"#7fa2ff\",\n",
    "                \"borderColor\": \"darken\"\n",
    "            }\n",
    "        ],\n",
    "        \"entity_attribute_types\": [\n",
    "            {\n",
    "                \"type\": \"Notorious\",\n",
    "                \"values\": {\n",
    "                    \"Notorious\": { \"glyph\": \"★\" }\n",
    "                },\n",
    "                \"bool\": \"Notorious\"\n",
    "            }\n",
    "        ],\n",
    "        \"relation_types\": [\n",
    "            {\n",
    "                \"type\": \"Anaphora\",\n",
    "                \"labels\": [ \"Anaphora\", \"Ana\" ],\n",
    "                \"dashArray\": \"3,3\",\n",
    "                \"color\": \"purple\",\n",
    "                \"args\": [\n",
    "                    {\n",
    "                        \"role\": \"Anaphor\",\n",
    "                        \"targets\": [ \"Person\" ]\n",
    "                    },\n",
    "                    {\n",
    "                        \"role\": \"Entity\",\n",
    "                        \"targets\": [ \"Person\" ]\n",
    "                    }\n",
    "                ]\n",
    "            }\n",
    "        ],\n",
    "        \"event_types\": [\n",
    "            {\n",
    "                \"type\": \"Assassination\",\n",
    "                \"labels\": [ \"Assassination\", \"Assas\" ],\n",
    "                \"bgColor\": \"lightgreen\",\n",
    "                \"borderColor\": \"darken\",\n",
    "                \"arcs\": [\n",
    "                    {\n",
    "                        \"type\": \"Victim\",\n",
    "                        \"labels\": [ \"Victim\", \"Vict\" ]\n",
    "                    },\n",
    "                    {\n",
    "                        \"type\": \"Perpetrator\",\n",
    "                        \"labels\": [ \"Perpetrator\", \"Perp\" ],\n",
    "                        \"color\": \"green\"\n",
    "                    }\n",
    "                ]\n",
    "            }\n",
    "        ]\n",
    "    }\n",
    "\n",
    "def get_complex_value(): \n",
    "    return {\n",
    "        \"text\": \"Ed O'Kelley was the man who shot the man who shot Jesse James.\",\n",
    "        \"entities\": [\n",
    "            [\n",
    "                \"T1\",\n",
    "                \"Person\",\n",
    "                [ [ 0, 11 ] ]\n",
    "            ],\n",
    "            [\n",
    "                \"T2\",\n",
    "                \"Person\",\n",
    "                [ [ 20, 23 ] ]\n",
    "            ],\n",
    "            [\n",
    "                \"T3\",\n",
    "                \"Person\",\n",
    "                [ [ 37, 40 ] ]\n",
    "            ],\n",
    "            [\n",
    "                \"T4\",\n",
    "                \"Person\",\n",
    "                [ [ 50, 61 ] ]\n",
    "            ]\n",
    "        ],\n",
    "        \"attributes\": [ [ \"A1\", \"Notorious\", \"T4\" ] ],\n",
    "        \"relations\": [\n",
    "            [\n",
    "                \"R1\",\n",
    "                \"Anaphora\",\n",
    "                [ [ \"Anaphor\", \"T2\" ], [ \"Entity\", \"T1\" ] ]\n",
    "            ]\n",
    "        ],\n",
    "        \"triggers\": [\n",
    "            [\n",
    "                \"T5\",\n",
    "                \"Assassination\",\n",
    "                [ [ 45, 49 ] ]\n",
    "            ],\n",
    "            [\n",
    "                \"T6\",\n",
    "                \"Assassination\",\n",
    "                [ [ 28, 32 ] ]\n",
    "            ]\n",
    "        ],\n",
    "        \"events\": [\n",
    "            [\n",
    "                \"E1\",\n",
    "                \"T5\",\n",
    "                [ [ \"Perpetrator\", \"T3\" ], [ \"Victim\", \"T4\" ] ]\n",
    "            ],\n",
    "            [\n",
    "                \"E2\",\n",
    "                \"T6\",\n",
    "                [ [ \"Perpetrator\", \"T2\" ], [ \"Victim\", \"T3\" ] ]\n",
    "            ]\n",
    "        ]\n",
    "    }"
   ]
  },
  {
   "cell_type": "code",
   "execution_count": 4,
   "metadata": {
    "ExecuteTime": {
     "end_time": "2017-07-02T03:18:04.295197Z",
     "start_time": "2017-07-02T03:18:04.281178Z"
    },
    "hide_input": true,
    "init_cell": true
   },
   "outputs": [
    {
     "name": "stderr",
     "output_type": "stream",
     "text": [
      "Widget Javascript not detected.  It may not be installed or enabled properly.\n"
     ]
    },
    {
     "data": {
      "application/vnd.jupyter.widget-view+json": {
       "model_id": "ee7e20bdcbe444dbac00161023f9e0ae"
      }
     },
     "metadata": {},
     "output_type": "display_data"
    }
   ],
   "source": [
    "w = brat.Visualizer()\n",
    "w.collection = get_complex_collection()\n",
    "w.value = get_complex_value()\n",
    "display(w)"
   ]
  },
  {
   "cell_type": "code",
   "execution_count": 5,
   "metadata": {
    "ExecuteTime": {
     "end_time": "2017-07-02T03:18:35.754642Z",
     "start_time": "2017-07-02T03:18:35.740296Z"
    },
    "hide_input": false
   },
   "outputs": [
    {
     "data": {
      "application/vnd.jupyter.widget-view+json": {
       "model_id": "17778306c6a249488f7491fe016231e4"
      }
     },
     "metadata": {},
     "output_type": "display_data"
    }
   ],
   "source": [
    "a = brat.Annotator(general_configuration=brat.GeneralConfiguration())\n",
    "a.collection = get_complex_collection()\n",
    "a.value = get_complex_value()\n",
    "display(a)"
   ]
  },
  {
   "cell_type": "code",
   "execution_count": null,
   "metadata": {
    "collapsed": true
   },
   "outputs": [],
   "source": []
  }
 ],
 "metadata": {
  "celltoolbar": "Initialization Cell",
  "hide_input": false,
  "kernelspec": {
   "display_name": "Python [conda env:brat-27]",
   "language": "python",
   "name": "conda-env-brat-27-py"
  },
  "language_info": {
   "codemirror_mode": {
    "name": "ipython",
    "version": 2
   },
   "file_extension": ".py",
   "mimetype": "text/x-python",
   "name": "python",
   "nbconvert_exporter": "python",
   "pygments_lexer": "ipython2",
   "version": "2.7.13"
  },
  "latex_envs": {
   "LaTeX_envs_menu_present": true,
   "autocomplete": true,
   "bibliofile": "biblio.bib",
   "cite_by": "apalike",
   "current_citInitial": 1,
   "eqLabelWithNumbers": true,
   "eqNumInitial": 1,
   "hotkeys": {
    "equation": "Ctrl-E",
    "itemize": "Ctrl-I"
   },
   "labels_anchors": false,
   "latex_user_defs": false,
   "report_style_numbering": false,
   "user_envs_cfg": false
  },
  "toc": {
   "colors": {
    "hover_highlight": "#DAA520",
    "navigate_num": "#000000",
    "navigate_text": "#333333",
    "running_highlight": "#FF0000",
    "selected_highlight": "#FFD700",
    "sidebar_border": "#EEEEEE",
    "wrapper_background": "#FFFFFF"
   },
   "moveMenuLeft": true,
   "nav_menu": {
    "height": "12px",
    "width": "252px"
   },
   "navigate_menu": true,
   "number_sections": true,
   "sideBar": true,
   "threshold": 4,
   "toc_cell": false,
   "toc_section_display": "block",
   "toc_window_display": false,
   "widenNotebook": false
  }
 },
 "nbformat": 4,
 "nbformat_minor": 1
}
